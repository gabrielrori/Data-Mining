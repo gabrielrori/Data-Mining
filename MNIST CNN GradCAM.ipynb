{
 "nbformat": 4,
 "nbformat_minor": 0,
 "metadata": {
  "colab": {
   "provenance": [],
   "gpuType": "T4"
  },
  "kernelspec": {
   "name": "python3",
   "display_name": "Python 3 (ipykernel)",
   "language": "python"
  },
  "language_info": {
   "name": "python"
  },
  "accelerator": "GPU"
 },
 "cells": [
  {
   "metadata": {},
   "cell_type": "markdown",
   "source": "# Visualización de Red Neuronal Convolucional con Grad-CAM en el Conjunto de Datos MNIST"
  },
  {
   "metadata": {
    "id": "1CYintuKEFMN"
   },
   "cell_type": "code",
   "outputs": [],
   "execution_count": 1,
   "source": [
    "from keras.datasets import mnist\n",
    "(x_train, y_train), (x_test, y_test) = mnist.load_data()\n",
    "x_train = x_train[:,:,:,None]\n",
    "x_test = x_test[:,:,:,None]"
   ]
  },
  {
   "cell_type": "code",
   "source": [
    "print(x_train.shape)"
   ],
   "metadata": {
    "colab": {
     "base_uri": "https://localhost:8080/"
    },
    "id": "mJG9JWYJESjX",
    "outputId": "eeef8caa-f6cd-440b-a154-91e3c06c4bb7"
   },
   "execution_count": 2,
   "outputs": [
    {
     "output_type": "stream",
     "name": "stdout",
     "text": [
      "(60000, 28, 28, 1)\n"
     ]
    }
   ]
  },
  {
   "cell_type": "code",
   "source": [
    "y_train"
   ],
   "metadata": {
    "colab": {
     "base_uri": "https://localhost:8080/"
    },
    "id": "frZK5SsDEbFu",
    "outputId": "e5d50aa5-01c3-460c-e3b5-3221d19575cf"
   },
   "execution_count": 3,
   "outputs": [
    {
     "output_type": "execute_result",
     "data": {
      "text/plain": [
       "array([5, 0, 4, ..., 5, 6, 8], dtype=uint8)"
      ]
     },
     "metadata": {},
     "execution_count": 3
    }
   ]
  },
  {
   "cell_type": "code",
   "source": [
    "import matplotlib.pyplot as plt\n",
    "plt.imshow(x_train[0,:,:])"
   ],
   "metadata": {
    "colab": {
     "base_uri": "https://localhost:8080/",
     "height": 447
    },
    "id": "ymkiWlLlEcn2",
    "outputId": "bebe59af-f0fb-4f4f-8bc0-6cb5f2253bfd"
   },
   "execution_count": 4,
   "outputs": [
    {
     "output_type": "execute_result",
     "data": {
      "text/plain": [
       "<matplotlib.image.AxesImage at 0x7f2458efcf10>"
      ]
     },
     "metadata": {},
     "execution_count": 4
    },
    {
     "output_type": "display_data",
     "data": {
      "text/plain": [
       "<Figure size 640x480 with 1 Axes>"
      ],
      "image/png": "[encoded data removed]"
     },
     "metadata": {}
    }
   ]
  },
  {
   "cell_type": "code",
   "source": [
    "from tensorflow.keras.utils import to_categorical\n",
    "y_train = to_categorical(y_train, 10)\n",
    "y_test = to_categorical(y_test, 10)"
   ],
   "metadata": {
    "id": "Diafpsm_El8e"
   },
   "execution_count": 5,
   "outputs": []
  },
  {
   "cell_type": "code",
   "source": [
    "y_train.shape"
   ],
   "metadata": {
    "colab": {
     "base_uri": "https://localhost:8080/"
    },
    "id": "kU_OAVZCExxm",
    "outputId": "d2e0adc4-bb32-4a03-ad89-4e7b50085ee7"
   },
   "execution_count": 6,
   "outputs": [
    {
     "output_type": "execute_result",
     "data": {
      "text/plain": [
       "(60000, 10)"
      ]
     },
     "metadata": {},
     "execution_count": 6
    }
   ]
  },
  {
   "cell_type": "code",
   "source": [
    "y_train"
   ],
   "metadata": {
    "colab": {
     "base_uri": "https://localhost:8080/"
    },
    "id": "bkpwd5YgEzKm",
    "outputId": "22858fb6-361d-4509-a141-5dc565d7e111"
   },
   "execution_count": 7,
   "outputs": [
    {
     "output_type": "execute_result",
     "data": {
      "text/plain": [
       "array([[0., 0., 0., ..., 0., 0., 0.],\n",
       "       [1., 0., 0., ..., 0., 0., 0.],\n",
       "       [0., 0., 0., ..., 0., 0., 0.],\n",
       "       ...,\n",
       "       [0., 0., 0., ..., 0., 0., 0.],\n",
       "       [0., 0., 0., ..., 0., 0., 0.],\n",
       "       [0., 0., 0., ..., 0., 1., 0.]], dtype=float32)"
      ]
     },
     "metadata": {},
     "execution_count": 7
    }
   ]
  },
  {
   "cell_type": "code",
   "source": [
    "from tensorflow.keras.models import Model\n",
    "from tensorflow.keras.layers import Input, Dense, Activation, Flatten, Conv2D, MaxPool2D, Dropout\n",
    "from tensorflow.keras.losses import categorical_crossentropy\n",
    "from tensorflow.keras.optimizers import Adadelta\n",
    "\n",
    "\n",
    "def build_cnn(input_shape):\n",
    "    x = Input(shape=input_shape)\n",
    "    h = Conv2D(32, (3,3), activation='relu', padding='same')(x)\n",
    "    h = Conv2D(64, (3,3), activation='relu', padding='same')(h)\n",
    "    h = MaxPool2D(pool_size=(2,2))(h)\n",
    "    h = Dropout(0.25)(h)\n",
    "    h = Flatten()(h)\n",
    "    h = Dense(128, activation='relu')(h)\n",
    "    h = Dropout(0.25)(h)\n",
    "    y = Dense(10, activation='softmax')(h)\n",
    "    model = Model(inputs=[x], outputs=[y])\n",
    "    return model\n",
    "\n",
    "model = build_cnn((28,28,1))\n",
    "model.compile(loss=categorical_crossentropy,\n",
    "              optimizer=Adadelta(),\n",
    "              metrics=['accuracy'])\n",
    "hist = model.fit(x_train, y_train,\n",
    "                  batch_size=128,\n",
    "                  epochs=100,\n",
    "                  verbose=1,\n",
    "                  validation_data=(x_test, y_test))"
   ],
   "metadata": {
    "colab": {
     "base_uri": "https://localhost:8080/"
    },
    "id": "J1gHqsMJE0P-",
    "outputId": "02087069-9491-41b8-fe68-8405a02675da"
   },
   "execution_count": 8,
   "outputs": [
    {
     "output_type": "stream",
     "name": "stdout",
     "text": [
      "Epoch 1/100\n",
      "469/469 [==============================] - 14s 14ms/step - loss: 22.2841 - accuracy: 0.1913 - val_loss: 3.6238 - val_accuracy: 0.5747\n",
      "Epoch 2/100\n",
      "469/469 [==============================] - 6s 12ms/step - loss: 8.4895 - accuracy: 0.4148 - val_loss: 1.6695 - val_accuracy: 0.7451\n",
      "Epoch 3/100\n",
      "469/469 [==============================] - 6s 13ms/step - loss: 4.6587 - accuracy: 0.5385 - val_loss: 1.0590 - val_accuracy: 0.7884\n",
      "Epoch 4/100\n",
      "469/469 [==============================] - 6s 12ms/step - loss: 3.1152 - accuracy: 0.5957 - val_loss: 0.7730 - val_accuracy: 0.8034\n",
      "Epoch 5/100\n",
      "469/469 [==============================] - 6s 12ms/step - loss: 2.3086 - accuracy: 0.6248 - val_loss: 0.6579 - val_accuracy: 0.8074\n",
      "Epoch 6/100\n",
      "469/469 [==============================] - 5s 12ms/step - loss: 1.8487 - accuracy: 0.6344 - val_loss: 0.6384 - val_accuracy: 0.8030\n",
      "Epoch 7/100\n",
      "469/469 [==============================] - 6s 12ms/step - loss: 1.5603 - accuracy: 0.6400 - val_loss: 0.6452 - val_accuracy: 0.8035\n",
      "Epoch 8/100\n",
      "469/469 [==============================] - 6s 12ms/step - loss: 1.3892 - accuracy: 0.6511 - val_loss: 0.6496 - val_accuracy: 0.8065\n",
      "Epoch 9/100\n",
      "469/469 [==============================] - 6s 12ms/step - loss: 1.2465 - accuracy: 0.6688 - val_loss: 0.6237 - val_accuracy: 0.8173\n",
      "Epoch 10/100\n",
      "469/469 [==============================] - 6s 12ms/step - loss: 1.1606 - accuracy: 0.6841 - val_loss: 0.5952 - val_accuracy: 0.8286\n",
      "Epoch 11/100\n",
      "469/469 [==============================] - 6s 12ms/step - loss: 1.0857 - accuracy: 0.6983 - val_loss: 0.5624 - val_accuracy: 0.8414\n",
      "Epoch 12/100\n",
      "469/469 [==============================] - 6s 12ms/step - loss: 1.0218 - accuracy: 0.7125 - val_loss: 0.5215 - val_accuracy: 0.8521\n",
      "Epoch 13/100\n",
      "469/469 [==============================] - 6s 12ms/step - loss: 0.9792 - accuracy: 0.7257 - val_loss: 0.4997 - val_accuracy: 0.8582\n",
      "Epoch 14/100\n",
      "469/469 [==============================] - 7s 14ms/step - loss: 0.9292 - accuracy: 0.7360 - val_loss: 0.4735 - val_accuracy: 0.8694\n",
      "Epoch 15/100\n",
      "469/469 [==============================] - 6s 12ms/step - loss: 0.8831 - accuracy: 0.7502 - val_loss: 0.4431 - val_accuracy: 0.8774\n",
      "Epoch 16/100\n",
      "469/469 [==============================] - 6s 12ms/step - loss: 0.8430 - accuracy: 0.7625 - val_loss: 0.4237 - val_accuracy: 0.8796\n",
      "Epoch 17/100\n",
      "469/469 [==============================] - 6s 12ms/step - loss: 0.8278 - accuracy: 0.7684 - val_loss: 0.4066 - val_accuracy: 0.8842\n",
      "Epoch 18/100\n",
      "469/469 [==============================] - 6s 13ms/step - loss: 0.7919 - accuracy: 0.7775 - val_loss: 0.3874 - val_accuracy: 0.8901\n",
      "Epoch 19/100\n",
      "469/469 [==============================] - 6s 12ms/step - loss: 0.7668 - accuracy: 0.7843 - val_loss: 0.3754 - val_accuracy: 0.8942\n",
      "Epoch 20/100\n",
      "469/469 [==============================] - 6s 13ms/step - loss: 0.7357 - accuracy: 0.7923 - val_loss: 0.3602 - val_accuracy: 0.8983\n",
      "Epoch 21/100\n",
      "469/469 [==============================] - 6s 12ms/step - loss: 0.7091 - accuracy: 0.7981 - val_loss: 0.3484 - val_accuracy: 0.9027\n",
      "Epoch 22/100\n",
      "469/469 [==============================] - 6s 12ms/step - loss: 0.6879 - accuracy: 0.8044 - val_loss: 0.3347 - val_accuracy: 0.9058\n",
      "Epoch 23/100\n",
      "469/469 [==============================] - 6s 12ms/step - loss: 0.6738 - accuracy: 0.8102 - val_loss: 0.3252 - val_accuracy: 0.9060\n",
      "Epoch 24/100\n",
      "469/469 [==============================] - 6s 12ms/step - loss: 0.6611 - accuracy: 0.8141 - val_loss: 0.3162 - val_accuracy: 0.9106\n",
      "Epoch 25/100\n",
      "469/469 [==============================] - 6s 12ms/step - loss: 0.6457 - accuracy: 0.8175 - val_loss: 0.3080 - val_accuracy: 0.9141\n",
      "Epoch 26/100\n",
      "469/469 [==============================] - 6s 12ms/step - loss: 0.6224 - accuracy: 0.8251 - val_loss: 0.2996 - val_accuracy: 0.9161\n",
      "Epoch 27/100\n",
      "469/469 [==============================] - 6s 12ms/step - loss: 0.6078 - accuracy: 0.8283 - val_loss: 0.2915 - val_accuracy: 0.9178\n",
      "Epoch 28/100\n",
      "469/469 [==============================] - 6s 12ms/step - loss: 0.5931 - accuracy: 0.8304 - val_loss: 0.2853 - val_accuracy: 0.9196\n",
      "Epoch 29/100\n",
      "469/469 [==============================] - 6s 12ms/step - loss: 0.5772 - accuracy: 0.8368 - val_loss: 0.2763 - val_accuracy: 0.9213\n",
      "Epoch 30/100\n",
      "469/469 [==============================] - 6s 12ms/step - loss: 0.5699 - accuracy: 0.8397 - val_loss: 0.2680 - val_accuracy: 0.9242\n",
      "Epoch 31/100\n",
      "469/469 [==============================] - 6s 13ms/step - loss: 0.5484 - accuracy: 0.8433 - val_loss: 0.2621 - val_accuracy: 0.9262\n",
      "Epoch 32/100\n",
      "469/469 [==============================] - 6s 12ms/step - loss: 0.5407 - accuracy: 0.8457 - val_loss: 0.2575 - val_accuracy: 0.9277\n",
      "Epoch 33/100\n",
      "469/469 [==============================] - 6s 12ms/step - loss: 0.5315 - accuracy: 0.8488 - val_loss: 0.2525 - val_accuracy: 0.9288\n",
      "Epoch 34/100\n",
      "469/469 [==============================] - 6s 13ms/step - loss: 0.5169 - accuracy: 0.8550 - val_loss: 0.2466 - val_accuracy: 0.9316\n",
      "Epoch 35/100\n",
      "469/469 [==============================] - 6s 12ms/step - loss: 0.5088 - accuracy: 0.8550 - val_loss: 0.2416 - val_accuracy: 0.9320\n",
      "Epoch 36/100\n",
      "469/469 [==============================] - 6s 12ms/step - loss: 0.4975 - accuracy: 0.8577 - val_loss: 0.2364 - val_accuracy: 0.9328\n",
      "Epoch 37/100\n",
      "469/469 [==============================] - 6s 12ms/step - loss: 0.5012 - accuracy: 0.8595 - val_loss: 0.2327 - val_accuracy: 0.9339\n",
      "Epoch 38/100\n",
      "469/469 [==============================] - 6s 13ms/step - loss: 0.4782 - accuracy: 0.8633 - val_loss: 0.2272 - val_accuracy: 0.9356\n",
      "Epoch 39/100\n",
      "469/469 [==============================] - 6s 12ms/step - loss: 0.4689 - accuracy: 0.8671 - val_loss: 0.2233 - val_accuracy: 0.9362\n",
      "Epoch 40/100\n",
      "469/469 [==============================] - 6s 13ms/step - loss: 0.4672 - accuracy: 0.8681 - val_loss: 0.2179 - val_accuracy: 0.9374\n",
      "Epoch 41/100\n",
      "469/469 [==============================] - 6s 12ms/step - loss: 0.4535 - accuracy: 0.8709 - val_loss: 0.2139 - val_accuracy: 0.9385\n",
      "Epoch 42/100\n",
      "469/469 [==============================] - 6s 12ms/step - loss: 0.4462 - accuracy: 0.8738 - val_loss: 0.2110 - val_accuracy: 0.9392\n",
      "Epoch 43/100\n",
      "469/469 [==============================] - 6s 12ms/step - loss: 0.4407 - accuracy: 0.8746 - val_loss: 0.2077 - val_accuracy: 0.9403\n",
      "Epoch 44/100\n",
      "469/469 [==============================] - 6s 12ms/step - loss: 0.4351 - accuracy: 0.8758 - val_loss: 0.2037 - val_accuracy: 0.9422\n",
      "Epoch 45/100\n",
      "469/469 [==============================] - 6s 12ms/step - loss: 0.4220 - accuracy: 0.8794 - val_loss: 0.2000 - val_accuracy: 0.9436\n",
      "Epoch 46/100\n",
      "469/469 [==============================] - 6s 12ms/step - loss: 0.4221 - accuracy: 0.8800 - val_loss: 0.1968 - val_accuracy: 0.9442\n",
      "Epoch 47/100\n",
      "469/469 [==============================] - 6s 12ms/step - loss: 0.4133 - accuracy: 0.8824 - val_loss: 0.1940 - val_accuracy: 0.9451\n",
      "Epoch 48/100\n",
      "469/469 [==============================] - 6s 12ms/step - loss: 0.4072 - accuracy: 0.8831 - val_loss: 0.1910 - val_accuracy: 0.9456\n",
      "Epoch 49/100\n",
      "469/469 [==============================] - 6s 13ms/step - loss: 0.4008 - accuracy: 0.8837 - val_loss: 0.1882 - val_accuracy: 0.9463\n",
      "Epoch 50/100\n",
      "469/469 [==============================] - 6s 12ms/step - loss: 0.3958 - accuracy: 0.8878 - val_loss: 0.1851 - val_accuracy: 0.9474\n",
      "Epoch 51/100\n",
      "469/469 [==============================] - 6s 13ms/step - loss: 0.3910 - accuracy: 0.8883 - val_loss: 0.1829 - val_accuracy: 0.9487\n",
      "Epoch 52/100\n",
      "469/469 [==============================] - 6s 13ms/step - loss: 0.3804 - accuracy: 0.8907 - val_loss: 0.1804 - val_accuracy: 0.9487\n",
      "Epoch 53/100\n",
      "469/469 [==============================] - 6s 13ms/step - loss: 0.3760 - accuracy: 0.8928 - val_loss: 0.1772 - val_accuracy: 0.9494\n",
      "Epoch 54/100\n",
      "469/469 [==============================] - 6s 12ms/step - loss: 0.3713 - accuracy: 0.8949 - val_loss: 0.1752 - val_accuracy: 0.9503\n",
      "Epoch 55/100\n",
      "469/469 [==============================] - 6s 13ms/step - loss: 0.3616 - accuracy: 0.8981 - val_loss: 0.1728 - val_accuracy: 0.9505\n",
      "Epoch 56/100\n",
      "469/469 [==============================] - 6s 13ms/step - loss: 0.3650 - accuracy: 0.8957 - val_loss: 0.1708 - val_accuracy: 0.9522\n",
      "Epoch 57/100\n",
      "469/469 [==============================] - 6s 13ms/step - loss: 0.3555 - accuracy: 0.8972 - val_loss: 0.1683 - val_accuracy: 0.9527\n",
      "Epoch 58/100\n",
      "469/469 [==============================] - 6s 12ms/step - loss: 0.3495 - accuracy: 0.8996 - val_loss: 0.1656 - val_accuracy: 0.9529\n",
      "Epoch 59/100\n",
      "469/469 [==============================] - 6s 13ms/step - loss: 0.3425 - accuracy: 0.9010 - val_loss: 0.1638 - val_accuracy: 0.9536\n",
      "Epoch 60/100\n",
      "469/469 [==============================] - 6s 12ms/step - loss: 0.3425 - accuracy: 0.9013 - val_loss: 0.1622 - val_accuracy: 0.9541\n",
      "Epoch 61/100\n",
      "469/469 [==============================] - 6s 12ms/step - loss: 0.3426 - accuracy: 0.9023 - val_loss: 0.1600 - val_accuracy: 0.9548\n",
      "Epoch 62/100\n",
      "469/469 [==============================] - 6s 12ms/step - loss: 0.3307 - accuracy: 0.9056 - val_loss: 0.1582 - val_accuracy: 0.9550\n",
      "Epoch 63/100\n",
      "469/469 [==============================] - 6s 12ms/step - loss: 0.3276 - accuracy: 0.9069 - val_loss: 0.1560 - val_accuracy: 0.9556\n",
      "Epoch 64/100\n",
      "469/469 [==============================] - 6s 12ms/step - loss: 0.3285 - accuracy: 0.9062 - val_loss: 0.1542 - val_accuracy: 0.9566\n",
      "Epoch 65/100\n",
      "469/469 [==============================] - 6s 12ms/step - loss: 0.3211 - accuracy: 0.9076 - val_loss: 0.1522 - val_accuracy: 0.9565\n",
      "Epoch 66/100\n",
      "469/469 [==============================] - 6s 13ms/step - loss: 0.3200 - accuracy: 0.9083 - val_loss: 0.1509 - val_accuracy: 0.9563\n",
      "Epoch 67/100\n",
      "469/469 [==============================] - 6s 12ms/step - loss: 0.3111 - accuracy: 0.9100 - val_loss: 0.1489 - val_accuracy: 0.9568\n",
      "Epoch 68/100\n",
      "469/469 [==============================] - 6s 13ms/step - loss: 0.3070 - accuracy: 0.9113 - val_loss: 0.1470 - val_accuracy: 0.9581\n",
      "Epoch 69/100\n",
      "469/469 [==============================] - 6s 12ms/step - loss: 0.3047 - accuracy: 0.9122 - val_loss: 0.1456 - val_accuracy: 0.9580\n",
      "Epoch 70/100\n",
      "469/469 [==============================] - 6s 12ms/step - loss: 0.3023 - accuracy: 0.9131 - val_loss: 0.1448 - val_accuracy: 0.9579\n",
      "Epoch 71/100\n",
      "469/469 [==============================] - 6s 12ms/step - loss: 0.2996 - accuracy: 0.9145 - val_loss: 0.1432 - val_accuracy: 0.9587\n",
      "Epoch 72/100\n",
      "469/469 [==============================] - 6s 13ms/step - loss: 0.2951 - accuracy: 0.9145 - val_loss: 0.1419 - val_accuracy: 0.9585\n",
      "Epoch 73/100\n",
      "469/469 [==============================] - 6s 13ms/step - loss: 0.2911 - accuracy: 0.9168 - val_loss: 0.1401 - val_accuracy: 0.9596\n",
      "Epoch 74/100\n",
      "469/469 [==============================] - 6s 12ms/step - loss: 0.2900 - accuracy: 0.9167 - val_loss: 0.1389 - val_accuracy: 0.9600\n",
      "Epoch 75/100\n",
      "469/469 [==============================] - 6s 13ms/step - loss: 0.2802 - accuracy: 0.9195 - val_loss: 0.1374 - val_accuracy: 0.9594\n",
      "Epoch 76/100\n",
      "469/469 [==============================] - 6s 13ms/step - loss: 0.2849 - accuracy: 0.9178 - val_loss: 0.1357 - val_accuracy: 0.9604\n",
      "Epoch 77/100\n",
      "469/469 [==============================] - 6s 12ms/step - loss: 0.2811 - accuracy: 0.9176 - val_loss: 0.1343 - val_accuracy: 0.9606\n",
      "Epoch 78/100\n",
      "469/469 [==============================] - 6s 12ms/step - loss: 0.2746 - accuracy: 0.9214 - val_loss: 0.1329 - val_accuracy: 0.9611\n",
      "Epoch 79/100\n",
      "469/469 [==============================] - 6s 13ms/step - loss: 0.2734 - accuracy: 0.9203 - val_loss: 0.1317 - val_accuracy: 0.9612\n",
      "Epoch 80/100\n",
      "469/469 [==============================] - 6s 12ms/step - loss: 0.2701 - accuracy: 0.9213 - val_loss: 0.1302 - val_accuracy: 0.9617\n",
      "Epoch 81/100\n",
      "469/469 [==============================] - 6s 13ms/step - loss: 0.2683 - accuracy: 0.9229 - val_loss: 0.1291 - val_accuracy: 0.9620\n",
      "Epoch 82/100\n",
      "469/469 [==============================] - 6s 12ms/step - loss: 0.2594 - accuracy: 0.9237 - val_loss: 0.1277 - val_accuracy: 0.9624\n",
      "Epoch 83/100\n",
      "469/469 [==============================] - 6s 12ms/step - loss: 0.2645 - accuracy: 0.9234 - val_loss: 0.1263 - val_accuracy: 0.9630\n",
      "Epoch 84/100\n",
      "469/469 [==============================] - 6s 12ms/step - loss: 0.2599 - accuracy: 0.9245 - val_loss: 0.1255 - val_accuracy: 0.9634\n",
      "Epoch 85/100\n",
      "469/469 [==============================] - 6s 12ms/step - loss: 0.2530 - accuracy: 0.9262 - val_loss: 0.1248 - val_accuracy: 0.9635\n",
      "Epoch 86/100\n",
      "469/469 [==============================] - 6s 13ms/step - loss: 0.2574 - accuracy: 0.9246 - val_loss: 0.1239 - val_accuracy: 0.9642\n",
      "Epoch 87/100\n",
      "469/469 [==============================] - 6s 13ms/step - loss: 0.2506 - accuracy: 0.9273 - val_loss: 0.1227 - val_accuracy: 0.9647\n",
      "Epoch 88/100\n",
      "469/469 [==============================] - 6s 12ms/step - loss: 0.2489 - accuracy: 0.9275 - val_loss: 0.1219 - val_accuracy: 0.9642\n",
      "Epoch 89/100\n",
      "469/469 [==============================] - 6s 12ms/step - loss: 0.2482 - accuracy: 0.9295 - val_loss: 0.1210 - val_accuracy: 0.9641\n",
      "Epoch 90/100\n",
      "469/469 [==============================] - 6s 13ms/step - loss: 0.2450 - accuracy: 0.9282 - val_loss: 0.1199 - val_accuracy: 0.9649\n",
      "Epoch 91/100\n",
      "469/469 [==============================] - 6s 13ms/step - loss: 0.2394 - accuracy: 0.9303 - val_loss: 0.1189 - val_accuracy: 0.9655\n",
      "Epoch 92/100\n",
      "469/469 [==============================] - 6s 13ms/step - loss: 0.2425 - accuracy: 0.9289 - val_loss: 0.1178 - val_accuracy: 0.9659\n",
      "Epoch 93/100\n",
      "469/469 [==============================] - 6s 12ms/step - loss: 0.2381 - accuracy: 0.9304 - val_loss: 0.1173 - val_accuracy: 0.9655\n",
      "Epoch 94/100\n",
      "469/469 [==============================] - 6s 13ms/step - loss: 0.2371 - accuracy: 0.9314 - val_loss: 0.1162 - val_accuracy: 0.9655\n",
      "Epoch 95/100\n",
      "469/469 [==============================] - 6s 12ms/step - loss: 0.2326 - accuracy: 0.9331 - val_loss: 0.1154 - val_accuracy: 0.9657\n",
      "Epoch 96/100\n",
      "469/469 [==============================] - 6s 12ms/step - loss: 0.2315 - accuracy: 0.9333 - val_loss: 0.1142 - val_accuracy: 0.9662\n",
      "Epoch 97/100\n",
      "469/469 [==============================] - 6s 12ms/step - loss: 0.2259 - accuracy: 0.9341 - val_loss: 0.1131 - val_accuracy: 0.9667\n",
      "Epoch 98/100\n",
      "469/469 [==============================] - 6s 13ms/step - loss: 0.2237 - accuracy: 0.9346 - val_loss: 0.1125 - val_accuracy: 0.9666\n",
      "Epoch 99/100\n",
      "469/469 [==============================] - 6s 13ms/step - loss: 0.2249 - accuracy: 0.9351 - val_loss: 0.1113 - val_accuracy: 0.9667\n",
      "Epoch 100/100\n",
      "469/469 [==============================] - 6s 12ms/step - loss: 0.2291 - accuracy: 0.9331 - val_loss: 0.1105 - val_accuracy: 0.9669\n"
     ]
    }
   ]
  },
  {
   "cell_type": "code",
   "source": [
    "score = model.evaluate(x_test, y_test, verbose=0)\n",
    "print(f'Test loss: {score[0]}')\n",
    "print(f'Test accuracy: {score[1]}')"
   ],
   "metadata": {
    "colab": {
     "base_uri": "https://localhost:8080/"
    },
    "id": "jvrbA0DMFTeH",
    "outputId": "f869669d-ef05-456e-8615-265653c2bfdb"
   },
   "execution_count": 9,
   "outputs": [
    {
     "output_type": "stream",
     "name": "stdout",
     "text": [
      "Test loss: 0.11051315069198608\n",
      "Test accuracy: 0.9668999910354614\n"
     ]
    }
   ]
  },
  {
   "cell_type": "code",
   "source": "model.summary()",
   "metadata": {
    "colab": {
     "base_uri": "https://localhost:8080/"
    },
    "id": "7RLlMu3VGeIn",
    "outputId": "7b477df1-a14f-4bef-893c-c0ad619e8fcd"
   },
   "execution_count": 10,
   "outputs": [
    {
     "output_type": "stream",
     "name": "stdout",
     "text": [
      "Model: \"model\"\n",
      "_________________________________________________________________\n",
      " Layer (type)                Output Shape              Param #   \n",
      "=================================================================\n",
      " input_1 (InputLayer)        [(None, 28, 28, 1)]       0         \n",
      "                                                                 \n",
      " conv2d (Conv2D)             (None, 28, 28, 32)        320       \n",
      "                                                                 \n",
      " conv2d_1 (Conv2D)           (None, 28, 28, 64)        18496     \n",
      "                                                                 \n",
      " max_pooling2d (MaxPooling2D  (None, 14, 14, 64)       0         \n",
      " )                                                               \n",
      "                                                                 \n",
      " dropout (Dropout)           (None, 14, 14, 64)        0         \n",
      "                                                                 \n",
      " flatten (Flatten)           (None, 12544)             0         \n",
      "                                                                 \n",
      " dense (Dense)               (None, 128)               1605760   \n",
      "                                                                 \n",
      " dropout_1 (Dropout)         (None, 128)               0         \n",
      "                                                                 \n",
      " dense_1 (Dense)             (None, 10)                1290      \n",
      "                                                                 \n",
      "=================================================================\n",
      "Total params: 1,625,866\n",
      "Trainable params: 1,625,866\n",
      "Non-trainable params: 0\n",
      "_________________________________________________________________\n"
     ]
    }
   ]
  },
  {
   "cell_type": "code",
   "source": [
    "import numpy as np\n",
    "import tensorflow as tf\n",
    "from tensorflow.keras.models import load_model\n",
    "from tensorflow.keras.preprocessing import image\n",
    "from tensorflow.keras import Model\n",
    "\n",
    "\n",
    "def grad_cam(model, img,\n",
    "             layer_name=\"block5_conv3\", label_name=None,\n",
    "             category_id=None):\n",
    "\n",
    "    img_tensor = np.expand_dims(img, axis=0)\n",
    "\n",
    "    conv_layer = model.get_layer(layer_name)\n",
    "    heatmap_model = Model([model.inputs], [conv_layer.output, model.output])\n",
    "\n",
    "    with tf.GradientTape() as gtape:\n",
    "        conv_output, predictions = heatmap_model(img_tensor)\n",
    "        if category_id is None:\n",
    "            category_id = np.argmax(predictions[0])\n",
    "        if label_name is not None:\n",
    "            print(label_name[category_id])\n",
    "        output = predictions[:, category_id]\n",
    "        grads = gtape.gradient(output, conv_output)\n",
    "        pooled_grads = tf.reduce_mean(grads, axis=(0, 1, 2))\n",
    "\n",
    "    heatmap = tf.reduce_mean(tf.multiply(pooled_grads, conv_output), axis=-1)\n",
    "    heatmap = np.maximum(heatmap, 0)\n",
    "    max_heat = np.max(heatmap)\n",
    "    if max_heat == 0:\n",
    "        max_heat = 1e-10\n",
    "    heatmap /= max_heat\n",
    "\n",
    "    return np.squeeze(heatmap)\n",
    "\n",
    "def grad_cam_plus(model, img,\n",
    "                  layer_name=\"block5_conv3\", label_name=None,\n",
    "                  category_id=None):\n",
    "\n",
    "    img_tensor = np.expand_dims(img, axis=0)\n",
    "\n",
    "    conv_layer = model.get_layer(layer_name)\n",
    "    heatmap_model = Model([model.inputs], [conv_layer.output, model.output])\n",
    "\n",
    "    with tf.GradientTape() as gtape1:\n",
    "        with tf.GradientTape() as gtape2:\n",
    "            with tf.GradientTape() as gtape3:\n",
    "                conv_output, predictions = heatmap_model(img_tensor)\n",
    "                if category_id is None:\n",
    "                    category_id = np.argmax(predictions[0])\n",
    "                if label_name is not None:\n",
    "                    print(label_name[category_id])\n",
    "                output = predictions[:, category_id]\n",
    "                conv_first_grad = gtape3.gradient(output, conv_output)\n",
    "            conv_second_grad = gtape2.gradient(conv_first_grad, conv_output)\n",
    "        conv_third_grad = gtape1.gradient(conv_second_grad, conv_output)\n",
    "\n",
    "    global_sum = np.sum(conv_output, axis=(0, 1, 2))\n",
    "\n",
    "    alpha_num = conv_second_grad[0]\n",
    "    alpha_denom = conv_second_grad[0]*2.0 + conv_third_grad[0]*global_sum\n",
    "    alpha_denom = np.where(alpha_denom != 0.0, alpha_denom, 1e-10)\n",
    "\n",
    "    alphas = alpha_num/alpha_denom\n",
    "    alpha_normalization_constant = np.sum(alphas, axis=(0,1))\n",
    "    alphas /= alpha_normalization_constant\n",
    "\n",
    "    weights = np.maximum(conv_first_grad[0], 0.0)\n",
    "\n",
    "    deep_linearization_weights = np.sum(weights*alphas, axis=(0,1))\n",
    "    grad_cam_map = np.sum(deep_linearization_weights*conv_output[0], axis=2)\n",
    "\n",
    "    heatmap = np.maximum(grad_cam_map, 0)\n",
    "    max_heat = np.max(heatmap)\n",
    "    if max_heat == 0:\n",
    "        max_heat = 1e-10\n",
    "    heatmap /= max_heat\n",
    "\n",
    "    return heatmap"
   ],
   "metadata": {
    "id": "k_l6ZXZXH_-E"
   },
   "execution_count": 11,
   "outputs": []
  },
  {
   "cell_type": "code",
   "source": [
    "import numpy as np\n",
    "from keras import backend as K\n",
    "which_number = 8\n",
    "y_test_int = np.where(y_test==1)[1]\n",
    "rand_idx = np.random.choice(np.where(y_test_int == which_number)[0])\n",
    "test_input = x_test[rand_idx].reshape(1,x_test.shape[1],x_test.shape[2],1)\n",
    "plt.imshow(test_input.squeeze());\n"
   ],
   "metadata": {
    "colab": {
     "base_uri": "https://localhost:8080/",
     "height": 430
    },
    "id": "eiKUb3-gGotf",
    "outputId": "da6b677c-2a56-4420-db79-dd3ea9a06418"
   },
   "execution_count": 19,
   "outputs": [
    {
     "output_type": "display_data",
     "data": {
      "text/plain": [
       "<Figure size 640x480 with 1 Axes>"
      ],
      "image/png": "[encoded data removed]"
     },
     "metadata": {}
    }
   ]
  },
  {
   "cell_type": "code",
   "source": [
    "heatmap = grad_cam_plus(model,test_input[0,...],layer_name='conv2d_1')\n",
    "hm = heatmap-heatmap.min()\n",
    "hm /= hm.max()\n",
    "hm *=255\n",
    "hm = hm.astype('uint8')\n",
    "hm =  cv2.cvtColor(hm, cv2.COLOR_GRAY2BGR)\n",
    "hm = cv2.applyColorMap(hm, cv2.COLORMAP_HOT)\n",
    "\n",
    "plt.imshow(cv2.cvtColor(hm, cv2.COLOR_BGR2RGB) )\n"
   ],
   "metadata": {
    "colab": {
     "base_uri": "https://localhost:8080/",
     "height": 447
    },
    "id": "91LDcyJtIXcr",
    "outputId": "13d80c91-84ea-44d0-a790-983e295d4641"
   },
   "execution_count": 78,
   "outputs": [
    {
     "output_type": "execute_result",
     "data": {
      "text/plain": [
       "<matplotlib.image.AxesImage at 0x7f236173a3e0>"
      ]
     },
     "metadata": {},
     "execution_count": 78
    },
    {
     "output_type": "display_data",
     "data": {
      "text/plain": [
       "<Figure size 640x480 with 1 Axes>"
      ],
      "image/png": "[encoded data removed]"
     },
     "metadata": {}
    }
   ]
  },
  {
   "cell_type": "code",
   "source": [
    "import cv2\n",
    "img = cv2.cvtColor(test_input[0,...], cv2.COLOR_GRAY2BGR)\n",
    "super_imposed_img = cv2.addWeighted(hm, .5, img, .5, 0)\n",
    "plt.imshow(cv2.cvtColor(super_imposed_img, cv2.COLOR_BGR2RGB))"
   ],
   "metadata": {
    "colab": {
     "base_uri": "https://localhost:8080/",
     "height": 447
    },
    "id": "eIepNWQ_QGL7",
    "outputId": "db43870e-be4c-470f-b314-819f972169d8"
   },
   "execution_count": 79,
   "outputs": [
    {
     "output_type": "execute_result",
     "data": {
      "text/plain": [
       "<matplotlib.image.AxesImage at 0x7f23617ad690>"
      ]
     },
     "metadata": {},
     "execution_count": 79
    },
    {
     "output_type": "display_data",
     "data": {
      "text/plain": [
       "<Figure size 640x480 with 1 Axes>"
      ],
      "image/png": "[encoded data removed]"
     },
     "metadata": {}
    }
   ]
  },
  {
   "cell_type": "code",
   "source": [],
   "metadata": {
    "id": "jJnE9YJpUOz9"
   },
   "execution_count": null,
   "outputs": []
  }
 ]
}
